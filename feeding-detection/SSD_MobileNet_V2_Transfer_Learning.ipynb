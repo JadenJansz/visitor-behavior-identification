{
 "cells": [
  {
   "cell_type": "markdown",
   "id": "be40202f",
   "metadata": {},
   "source": [
    " \n",
    "# Train an Object Detection Model using Transfer Learning with SSD MobileNet V2\n",
    "\n",
    "This notebook demonstrates:\n",
    "1. Loading a pre-trained SSD MobileNet V2 model.\n",
    "2. Customizing the model for a specific object detection task.\n",
    "3. Training and evaluating the model.\n",
    "4. Exporting the model as a TensorFlow Lite (`.tflite`) file.\n"
   ]
  },
  {
   "cell_type": "code",
   "execution_count": null,
   "id": "0d604e79",
   "metadata": {},
   "outputs": [],
   "source": [
    "\n",
    "# Install necessary libraries\n",
    "!pip install tensorflow tensorflow_hub tensorflow-datasets\n",
    "!pip install tf_slim\n"
   ]
  },
  {
   "cell_type": "code",
   "execution_count": null,
   "id": "35a66b00",
   "metadata": {},
   "outputs": [],
   "source": [
    "\n",
    "import tensorflow as tf\n",
    "import tensorflow_hub as hub\n",
    "from tensorflow.keras import layers\n",
    "from tensorflow.keras.optimizers import Adam\n",
    "import numpy as np\n",
    "import matplotlib.pyplot as plt\n",
    "from tensorflow.keras.preprocessing.image import ImageDataGenerator\n",
    "import os\n"
   ]
  },
  {
   "cell_type": "markdown",
   "id": "ed95fdf0",
   "metadata": {},
   "source": [
    "### Load and Prepare the Dataset"
   ]
  },
  {
   "cell_type": "code",
   "execution_count": null,
   "id": "a55e5093",
   "metadata": {},
   "outputs": [],
   "source": [
    "\n",
    "# Example: Use TensorFlow Datasets for training (e.g., COCO dataset or your custom dataset)\n",
    "import tensorflow_datasets as tfds\n",
    "\n",
    "# Load a sample dataset\n",
    "dataset_name = 'cats_vs_dogs'\n",
    "data, info = tfds.load(dataset_name, as_supervised=True, with_info=True)\n",
    "\n",
    "train_data, test_data = data['train'], data['test']\n",
    "\n",
    "# Preprocessing function\n",
    "def preprocess(image, label):\n",
    "    image = tf.image.resize(image, (300, 300)) / 255.0  # Resize to 300x300 for SSD MobileNet\n",
    "    return image, label\n",
    "\n",
    "train_data = train_data.map(preprocess).batch(32).shuffle(1000)\n",
    "test_data = test_data.map(preprocess).batch(32)\n"
   ]
  },
  {
   "cell_type": "markdown",
   "id": "0e8e1a67",
   "metadata": {},
   "source": [
    "### Load Pre-trained SSD MobileNet V2 Model"
   ]
  },
  {
   "cell_type": "code",
   "execution_count": null,
   "id": "625bc914",
   "metadata": {},
   "outputs": [],
   "source": [
    "\n",
    "# Load pre-trained SSD MobileNet V2 model from TensorFlow Hub\n",
    "base_model_url = \"https://tfhub.dev/tensorflow/ssd_mobilenet_v2/2\"\n",
    "model = hub.load(base_model_url)\n",
    "\n",
    "# Example of how to fine-tune the model will depend on the specific dataset and problem\n",
    "# The hub.KerasLayer can be modified for training\n"
   ]
  },
  {
   "cell_type": "markdown",
   "id": "39190ce3",
   "metadata": {},
   "source": [
    "### Fine-tune the Model"
   ]
  },
  {
   "cell_type": "code",
   "execution_count": null,
   "id": "07f86dee",
   "metadata": {},
   "outputs": [],
   "source": [
    "\n",
    "# Create a custom training head for fine-tuning\n",
    "model = tf.keras.Sequential([\n",
    "    hub.KerasLayer(base_model_url, trainable=False),\n",
    "    layers.Dense(128, activation='relu'),\n",
    "    layers.Dense(1, activation='sigmoid')  # For binary classification, modify for multi-class\n",
    "])\n",
    "\n",
    "# Compile the model\n",
    "model.compile(optimizer=Adam(learning_rate=0.001),\n",
    "              loss='binary_crossentropy',\n",
    "              metrics=['accuracy'])\n",
    "\n",
    "# Train the model\n",
    "history = model.fit(train_data, epochs=5, validation_data=test_data)\n"
   ]
  },
  {
   "cell_type": "markdown",
   "id": "349901f5",
   "metadata": {},
   "source": [
    "### Evaluate the Model"
   ]
  },
  {
   "cell_type": "code",
   "execution_count": null,
   "id": "409cce9b",
   "metadata": {},
   "outputs": [],
   "source": [
    "\n",
    "# Evaluate the model on the test data\n",
    "loss, accuracy = model.evaluate(test_data)\n",
    "print(f\"Test Loss: {loss}, Test Accuracy: {accuracy}\")\n"
   ]
  },
  {
   "cell_type": "markdown",
   "id": "ddfd7c96",
   "metadata": {},
   "source": [
    "### Convert the Model to TensorFlow Lite"
   ]
  },
  {
   "cell_type": "code",
   "execution_count": null,
   "id": "d7e3db77",
   "metadata": {},
   "outputs": [],
   "source": [
    "\n",
    "# Convert the trained model to TensorFlow Lite format\n",
    "converter = tf.lite.TFLiteConverter.from_keras_model(model)\n",
    "tflite_model = converter.convert()\n",
    "\n",
    "# Save the TFLite model\n",
    "tflite_model_file = 'ssd_mobilenet_v2.tflite'\n",
    "with open(tflite_model_file, 'wb') as f:\n",
    "    f.write(tflite_model)\n",
    "\n",
    "print(f\"Model has been successfully saved as '{tflite_model_file}'.\")\n"
   ]
  }
 ],
 "metadata": {},
 "nbformat": 4,
 "nbformat_minor": 5
}
